{
 "cells": [
  {
   "cell_type": "code",
   "execution_count": 1,
   "metadata": {},
   "outputs": [],
   "source": [
    "%load_ext autoreload\n",
    "%autoreload 2"
   ]
  },
  {
   "cell_type": "code",
   "execution_count": 2,
   "metadata": {},
   "outputs": [
    {
     "name": "stderr",
     "output_type": "stream",
     "text": [
      "/home/ubuntu/.cache/pypoetry/virtualenvs/nouns-mech-interp-YeAXWnnL-py3.10/lib/python3.10/site-packages/tqdm/auto.py:21: TqdmWarning: IProgress not found. Please update jupyter and ipywidgets. See https://ipywidgets.readthedocs.io/en/stable/user_install.html\n",
      "  from .autonotebook import tqdm as notebook_tqdm\n"
     ]
    }
   ],
   "source": [
    "from vae_interp.dataset import NpyDataset\n",
    "from vae_interp.vae import VAE\n",
    "import matplotlib.pyplot as plt\n",
    "import torch\n",
    "from vae_interp.sae import SAE"
   ]
  },
  {
   "cell_type": "code",
   "execution_count": 3,
   "metadata": {},
   "outputs": [
    {
     "data": {
      "text/plain": [
       "49859"
      ]
     },
     "execution_count": 3,
     "metadata": {},
     "output_type": "execute_result"
    }
   ],
   "source": [
    "npy_path = \"./vae_embeddings.npy\"\n",
    "dataset = NpyDataset(npy_path)\n",
    "\n",
    "len(dataset)"
   ]
  },
  {
   "cell_type": "code",
   "execution_count": 4,
   "metadata": {},
   "outputs": [
    {
     "data": {
      "text/plain": [
       "VAE(\n",
       "  (encoder): Encoder(\n",
       "    (encoder): Sequential(\n",
       "      (0): Sequential(\n",
       "        (0): Conv2d(3, 32, kernel_size=(3, 3), stride=(2, 2), padding=(1, 1))\n",
       "        (1): BatchNorm2d(32, eps=1e-05, momentum=0.1, affine=True, track_running_stats=True)\n",
       "        (2): ReLU()\n",
       "      )\n",
       "      (1): Sequential(\n",
       "        (0): Conv2d(32, 64, kernel_size=(3, 3), stride=(2, 2), padding=(1, 1))\n",
       "        (1): BatchNorm2d(64, eps=1e-05, momentum=0.1, affine=True, track_running_stats=True)\n",
       "        (2): ReLU()\n",
       "      )\n",
       "      (2): Sequential(\n",
       "        (0): Conv2d(64, 128, kernel_size=(3, 3), stride=(2, 2), padding=(1, 1))\n",
       "        (1): BatchNorm2d(128, eps=1e-05, momentum=0.1, affine=True, track_running_stats=True)\n",
       "        (2): ReLU()\n",
       "      )\n",
       "      (3): Sequential(\n",
       "        (0): Conv2d(128, 256, kernel_size=(3, 3), stride=(2, 2), padding=(1, 1))\n",
       "        (1): BatchNorm2d(256, eps=1e-05, momentum=0.1, affine=True, track_running_stats=True)\n",
       "        (2): ReLU()\n",
       "      )\n",
       "    )\n",
       "  )\n",
       "  (mu_logvar): Conv2d(256, 8, kernel_size=(1, 1), stride=(1, 1))\n",
       "  (decoder_input): Conv2d(4, 256, kernel_size=(1, 1), stride=(1, 1))\n",
       "  (decoder): Decoder(\n",
       "    (decoder): Sequential(\n",
       "      (0): Sequential(\n",
       "        (0): ConvTranspose2d(256, 128, kernel_size=(4, 4), stride=(2, 2), padding=(1, 1))\n",
       "        (1): BatchNorm2d(128, eps=1e-05, momentum=0.1, affine=True, track_running_stats=True)\n",
       "        (2): ReLU()\n",
       "      )\n",
       "      (1): Sequential(\n",
       "        (0): ConvTranspose2d(128, 64, kernel_size=(4, 4), stride=(2, 2), padding=(1, 1))\n",
       "        (1): BatchNorm2d(64, eps=1e-05, momentum=0.1, affine=True, track_running_stats=True)\n",
       "        (2): ReLU()\n",
       "      )\n",
       "      (2): Sequential(\n",
       "        (0): ConvTranspose2d(64, 32, kernel_size=(4, 4), stride=(2, 2), padding=(1, 1))\n",
       "        (1): BatchNorm2d(32, eps=1e-05, momentum=0.1, affine=True, track_running_stats=True)\n",
       "        (2): ReLU()\n",
       "      )\n",
       "      (3): Sequential(\n",
       "        (0): ConvTranspose2d(32, 32, kernel_size=(4, 4), stride=(2, 2), padding=(1, 1))\n",
       "        (1): BatchNorm2d(32, eps=1e-05, momentum=0.1, affine=True, track_running_stats=True)\n",
       "        (2): ReLU()\n",
       "        (3): Conv2d(32, 3, kernel_size=(3, 3), stride=(1, 1), padding=(1, 1))\n",
       "      )\n",
       "    )\n",
       "  )\n",
       ")"
      ]
     },
     "execution_count": 4,
     "metadata": {},
     "output_type": "execute_result"
    }
   ],
   "source": [
    "vae_checkpoint = \"./checkpoints/vae\"\n",
    "\n",
    "vae = VAE.load_from_dir(vae_checkpoint)\n",
    "vae.to(\"cuda\")"
   ]
  },
  {
   "cell_type": "code",
   "execution_count": 5,
   "metadata": {},
   "outputs": [
    {
     "data": {
      "text/plain": [
       "tensor([ 0.3580, -0.7584, -0.7236,  0.2047,  0.4342, -1.0282, -0.5373, -0.3994,\n",
       "         0.3159,  0.2271,  3.2967, -0.1082,  0.4442, -1.3350,  0.1087, -0.0599,\n",
       "        -0.1499, -1.4915, -1.1173, -1.1423, -0.7139,  0.3007,  1.9337, -0.5247,\n",
       "        -0.9506,  1.5348,  1.3062, -0.1191, -0.6700, -0.8807,  0.7381, -0.3178,\n",
       "        -0.7549,  0.8090, -1.6190, -0.4869, -0.8433, -0.1409,  0.1760, -0.8304,\n",
       "        -0.9876,  1.4467,  0.5713, -0.5600, -1.0598,  1.9426, -0.2219, -0.9749,\n",
       "         0.4190,  0.1557, -1.1312,  0.3236,  0.4938, -1.1100, -0.1721,  1.0031,\n",
       "         0.2506,  0.7770, -1.8356,  0.3198,  0.2038, -0.9374, -1.2771,  0.7020])"
      ]
     },
     "execution_count": 5,
     "metadata": {},
     "output_type": "execute_result"
    }
   ],
   "source": [
    "dataset[0]"
   ]
  },
  {
   "cell_type": "code",
   "execution_count": 6,
   "metadata": {},
   "outputs": [
    {
     "data": {
      "text/plain": [
       "torch.Size([1, 4, 4, 4])"
      ]
     },
     "execution_count": 6,
     "metadata": {},
     "output_type": "execute_result"
    }
   ],
   "source": [
    "# sanity check to make sure it decodes to the right image with VAE\n",
    "embedding = dataset[1].view(4, 4, 4).unsqueeze(0).to(\"cuda\")\n",
    "embedding.shape"
   ]
  },
  {
   "cell_type": "code",
   "execution_count": 7,
   "metadata": {},
   "outputs": [
    {
     "data": {
      "text/plain": [
       "<matplotlib.image.AxesImage at 0x1507c63ba6b0>"
      ]
     },
     "execution_count": 7,
     "metadata": {},
     "output_type": "execute_result"
    },
    {
     "data": {
      "image/png": "[encoded data removed]",
      "text/plain": [
       "<Figure size 640x480 with 1 Axes>"
      ]
     },
     "metadata": {},
     "output_type": "display_data"
    }
   ],
   "source": [
    "vae.eval()\n",
    "with torch.no_grad():\n",
    "    recon = vae.decode(embedding)\n",
    "    recon = recon.cpu().squeeze(0).permute(1, 2, 0)\n",
    "    recon = img = (recon - recon.min()) / (recon.max() - recon.min())\n",
    "\n",
    "plt.imshow(recon)"
   ]
  },
  {
   "cell_type": "code",
   "execution_count": 8,
   "metadata": {},
   "outputs": [
    {
     "data": {
      "text/plain": [
       "SAE()"
      ]
     },
     "execution_count": 8,
     "metadata": {},
     "output_type": "execute_result"
    }
   ],
   "source": [
    "sae = SAE(\n",
    "    in_features=4**3,\n",
    "    expansion_factor=2\n",
    ")\n",
    "\n",
    "sae.to(\"cuda\")"
   ]
  },
  {
   "cell_type": "code",
   "execution_count": 9,
   "metadata": {},
   "outputs": [],
   "source": [
    "batch = dataset[0].unsqueeze(0).to(\"cuda\")"
   ]
  },
  {
   "cell_type": "code",
   "execution_count": 10,
   "metadata": {},
   "outputs": [
    {
     "data": {
      "text/plain": [
       "SAEOutput(recon=tensor([[ 0.0711,  1.5868,  0.7633, -0.8628, -0.1403,  0.1755,  0.1580,  0.7100,\n",
       "         -0.0723,  0.2367,  0.7315,  0.7535, -0.1749, -0.6190,  0.0771, -1.5686,\n",
       "         -0.4475,  2.2040, -0.2919, -1.0032,  0.2462, -0.4266,  1.8615, -0.3575,\n",
       "          0.0217, -1.3702, -1.0967,  0.4749,  1.0128, -0.6127, -0.4240, -0.7062,\n",
       "         -0.3467,  0.6309,  0.3617,  0.5954, -1.5546,  0.1606, -0.4594, -1.5715,\n",
       "         -0.3665,  0.4776,  0.3732,  0.4307,  0.9025, -1.1864,  0.2804, -1.6341,\n",
       "         -0.9731,  1.4593,  1.0354, -1.5053, -0.2297,  0.0320,  1.1273,  0.1478,\n",
       "         -0.3813, -0.4867,  0.1950,  0.6573,  0.5739, -0.4530,  0.3191,  0.3384]],\n",
       "       device='cuda:0', grad_fn=<AddBackward0>), latent=tensor([[0.0000, 0.0000, 0.4031, 0.0000, 0.0000, 0.0000, 0.1859, 0.0000, 0.0000,\n",
       "         0.1483, 0.6097, 1.2580, 0.0000, 1.0550, 0.2693, 0.0000, 0.0000, 0.0000,\n",
       "         0.0000, 1.9407, 1.7645, 0.2915, 0.3944, 0.0000, 0.2240, 0.9439, 0.1265,\n",
       "         0.0000, 0.0000, 0.0000, 0.8856, 0.0000, 1.2451, 0.5241, 0.1287, 0.0000,\n",
       "         0.0000, 0.0000, 0.0000, 1.2645, 0.3477, 0.0000, 0.0000, 0.0000, 0.2267,\n",
       "         0.0866, 0.0000, 2.1239, 0.0000, 2.2259, 0.0000, 0.0000, 0.0781, 1.5357,\n",
       "         0.9391, 1.0723, 0.0000, 0.3551, 0.0000, 0.0543, 0.0000, 0.0000, 0.0000,\n",
       "         0.0922, 1.1337, 0.0000, 0.2777, 0.0000, 0.3087, 0.3649, 0.0000, 0.0000,\n",
       "         0.3382, 0.0000, 0.0521, 0.0000, 1.6318, 0.6055, 0.6435, 1.6398, 0.0000,\n",
       "         0.9555, 0.0000, 0.0000, 0.2370, 0.0000, 0.6655, 0.0454, 0.0000, 0.3832,\n",
       "         0.2120, 0.0000, 0.2762, 0.9779, 0.0000, 0.0000, 0.0610, 0.5161, 0.4806,\n",
       "         0.0000, 0.5322, 1.5839, 0.0000, 0.0000, 0.0000, 0.0000, 0.2874, 2.0437,\n",
       "         0.0000, 0.0000, 0.0000, 1.4342, 0.1687, 0.1840, 0.0892, 1.1618, 0.0000,\n",
       "         0.0000, 0.1940, 0.0178, 0.8501, 0.0000, 0.0000, 0.0000, 0.0000, 0.9769,\n",
       "         0.0000, 0.5502]], device='cuda:0', grad_fn=<ReluBackward0>))"
      ]
     },
     "execution_count": 10,
     "metadata": {},
     "output_type": "execute_result"
    }
   ],
   "source": [
    "sae(batch)"
   ]
  },
  {
   "cell_type": "code",
   "execution_count": 13,
   "metadata": {},
   "outputs": [
    {
     "data": {
      "text/plain": [
       "tensor(6.1500, device='cuda:0', grad_fn=<AddBackward0>)"
      ]
     },
     "execution_count": 13,
     "metadata": {},
     "output_type": "execute_result"
    }
   ],
   "source": [
    "sae.loss(batch, 0.1)"
   ]
  },
  {
   "cell_type": "code",
   "execution_count": 66,
   "metadata": {},
   "outputs": [],
   "source": [
    "from torch.utils.data import DataLoader\n",
    "from vae_interp.trainer import SAETrainConfig, SAETrainer\n",
    "\n",
    "\n",
    "dataset = NpyDataset(\"./vae_embeddings.npy\")\n",
    "dataloader = DataLoader(\n",
    "    dataset,\n",
    "    batch_size=128,\n",
    "    shuffle=True,\n",
    "    pin_memory=True,\n",
    "    num_workers=4,\n",
    ")\n",
    "\n",
    "sae = SAE(\n",
    "    in_features=64,\n",
    "    expansion_factor=8,\n",
    "    dtype=torch.float32,\n",
    ")\n",
    "\n",
    "train_config = SAETrainConfig(\n",
    "    lr=3e-4,\n",
    "    iterations=10,\n",
    "    lmbda=0.004,\n",
    ")\n",
    "trainer = SAETrainer(\n",
    "    model=sae,\n",
    "    dataloader=dataloader,\n",
    "    config=train_config,\n",
    "    save_dir=\"./checkpoints/sae\",\n",
    "    checkpoint_every=10,\n",
    "    # device=args.device,\n",
    ")"
   ]
  },
  {
   "cell_type": "code",
   "execution_count": 67,
   "metadata": {},
   "outputs": [
    {
     "name": "stderr",
     "output_type": "stream",
     "text": [
      "Computing L0 norm:   9%|▉         | 36/390 [00:00<00:00, 357.31it/s]"
     ]
    },
    {
     "name": "stderr",
     "output_type": "stream",
     "text": [
      "Computing L0 norm: 100%|██████████| 390/390 [00:00<00:00, 1066.99it/s]\n"
     ]
    },
    {
     "data": {
      "text/plain": [
       "254.1637417517399"
      ]
     },
     "execution_count": 67,
     "metadata": {},
     "output_type": "execute_result"
    }
   ],
   "source": [
    "trainer.get_l0_norm()"
   ]
  },
  {
   "cell_type": "code",
   "execution_count": 68,
   "metadata": {},
   "outputs": [
    {
     "name": "stderr",
     "output_type": "stream",
     "text": [
      "Computing feature densities:   4%|▍         | 16/390 [00:00<00:02, 159.63it/s]"
     ]
    },
    {
     "name": "stderr",
     "output_type": "stream",
     "text": [
      "Computing feature densities: 100%|██████████| 390/390 [00:00<00:00, 992.28it/s] \n"
     ]
    },
    {
     "data": {
      "text/plain": [
       "tensor([3.2883e-01, 6.9129e-01, 5.8746e-02, 5.5984e-01, 8.8187e-01, 9.2693e-01,\n",
       "        8.9619e-01, 8.7429e-01, 9.7595e-01, 7.7218e-02, 5.4454e-02, 8.8129e-02,\n",
       "        7.9300e-01, 4.5771e-01, 9.5684e-01, 9.9396e-01, 9.3303e-01, 1.2489e-01,\n",
       "        4.3723e-03, 9.5481e-01, 1.2435e-03, 7.4803e-01, 2.9940e-01, 4.1317e-03,\n",
       "        6.4606e-01, 1.8562e-01, 9.6494e-01, 6.8700e-01, 7.6093e-01, 2.5612e-02,\n",
       "        9.9898e-01, 7.3714e-01, 2.8861e-02, 6.8654e-01, 1.0229e-02, 9.8983e-01,\n",
       "        5.0613e-01, 5.2889e-01, 5.9624e-01, 5.6385e-01, 5.7667e-01, 3.2008e-01,\n",
       "        4.9788e-01, 3.3675e-01, 1.7136e-01, 3.0185e-02, 5.3832e-01, 4.4899e-01,\n",
       "        3.1890e-03, 3.5967e-01, 9.2328e-01, 1.0837e-01, 3.4096e-04, 5.1630e-01,\n",
       "        3.1070e-01, 0.0000e+00, 3.9299e-01, 3.4285e-01, 2.7971e-01, 9.3115e-01,\n",
       "        1.8219e-01, 7.8562e-02, 1.9726e-01, 9.1725e-01, 1.0000e+00, 1.0209e-02,\n",
       "        3.4979e-02, 8.1815e-01, 5.8828e-01, 6.2171e-01, 3.4088e-01, 3.8787e-01,\n",
       "        4.4124e-02, 6.2073e-01, 2.9758e-01, 9.3213e-01, 9.8229e-01, 2.4431e-01,\n",
       "        9.9661e-01, 3.8709e-02, 8.8293e-01, 4.0298e-01, 9.7336e-01, 3.5300e-03,\n",
       "        7.1233e-01, 9.2356e-01, 4.6964e-01, 6.7703e-01, 1.9423e-01, 4.7448e-01,\n",
       "        9.7912e-01, 9.3807e-01, 7.7218e-03, 9.5303e-01, 9.8416e-01, 6.0769e-01,\n",
       "        6.0260e-01, 6.5573e-01, 9.0255e-01, 6.7550e-02, 5.4542e-01, 7.5541e-01,\n",
       "        7.9364e-01, 6.8262e-01, 4.4881e-01, 9.1197e-01, 9.9964e-01, 5.3687e-01,\n",
       "        9.4370e-01, 7.5545e-01, 7.9625e-03, 2.4363e-01, 9.6282e-01, 6.3178e-01,\n",
       "        4.4536e-01, 5.9765e-01, 8.2535e-01, 5.7763e-02, 4.4002e-01, 7.8174e-01,\n",
       "        6.0190e-02, 4.2939e-01, 1.1890e-01, 9.5965e-01, 7.7228e-01, 9.5872e-01,\n",
       "        4.5753e-01, 4.2065e-01, 9.0058e-01, 9.9872e-01, 2.9553e-01, 1.8266e-01,\n",
       "        8.3136e-01, 1.7636e-01, 4.4034e-01, 4.0789e-01, 2.3045e-02, 4.7131e-01,\n",
       "        9.9697e-01, 3.7626e-01, 9.1719e-01, 9.9761e-01, 9.8267e-01, 2.7919e-02,\n",
       "        9.5610e-02, 1.3175e-01, 2.6396e-01, 4.0250e-01, 6.9015e-01, 5.9127e-02,\n",
       "        7.3367e-02, 2.3286e-01, 9.5648e-01, 3.7275e-01, 7.7320e-01, 1.6065e-02,\n",
       "        9.9996e-01, 4.8184e-01, 2.0057e-04, 4.1216e-02, 3.5811e-01, 6.0834e-01,\n",
       "        8.1855e-01, 2.9784e-01, 7.5936e-01, 8.9811e-01, 5.5228e-01, 7.6313e-01,\n",
       "        9.4902e-01, 7.5497e-01, 2.8139e-02, 0.0000e+00, 1.0536e-01, 4.0747e-01,\n",
       "        7.7555e-01, 6.6132e-01, 8.0208e-01, 1.0113e-01, 7.6034e-02, 7.5238e-01,\n",
       "        6.5084e-01, 1.7307e-01, 1.1633e-03, 6.6147e-02, 4.1032e-01, 7.9659e-01,\n",
       "        4.8338e-01, 8.9530e-01, 2.5612e-02, 4.6752e-02, 9.9813e-01, 7.6935e-01,\n",
       "        1.7409e-01, 5.8720e-01, 3.6403e-02, 9.9348e-01, 2.0851e-01, 8.3636e-01,\n",
       "        2.1260e-03, 6.8742e-01, 4.7588e-01, 8.5483e-01, 7.7400e-01, 2.4393e-01,\n",
       "        2.7056e-02, 9.5056e-01, 7.6175e-01, 1.5373e-01, 6.9747e-01, 4.0607e-01,\n",
       "        8.2834e-03, 2.3326e-02, 4.0213e-02, 5.6592e-01, 7.4909e-01, 5.9939e-01,\n",
       "        3.9020e-01, 6.0178e-01, 5.5019e-01, 9.9992e-01, 7.8790e-01, 7.6997e-02,\n",
       "        7.8945e-01, 9.3245e-01, 1.5000e-01, 4.0643e-01, 8.8014e-01, 9.9962e-02,\n",
       "        6.8265e-01, 7.5196e-01, 9.9368e-01, 2.9802e-01, 4.3222e-02, 3.4437e-02,\n",
       "        1.3544e-01, 2.9644e-01, 0.0000e+00, 8.0892e-01, 9.9079e-03, 2.1077e-01,\n",
       "        9.9288e-01, 4.1256e-02, 6.4063e-01, 1.5724e-02, 4.5958e-01, 9.9721e-01,\n",
       "        3.1681e-01, 2.3105e-02, 2.0941e-01, 9.9936e-01, 4.7209e-01, 7.4610e-03,\n",
       "        4.0823e-01, 4.5585e-01, 3.0055e-01, 6.1197e-01, 9.2978e-01, 4.4859e-01,\n",
       "        1.3574e-01, 5.4145e-01, 8.5509e-01, 6.7986e-01, 2.4930e-01, 9.1632e-01,\n",
       "        6.0210e-01, 9.6009e-01, 7.7330e-01, 6.2244e-01, 1.4581e-02, 8.5152e-01,\n",
       "        9.9864e-01, 4.3904e-02, 3.3374e-02, 7.9003e-02, 7.3592e-01, 7.6756e-01,\n",
       "        9.4627e-01, 5.6467e-01, 2.3205e-02, 9.8385e-01, 8.7703e-01, 9.9998e-01,\n",
       "        3.4808e-01, 3.6914e-01, 9.2477e-01, 8.2402e-01, 4.6331e-03, 2.6174e-02,\n",
       "        3.5099e-01, 6.4554e-01, 6.4426e-01, 9.9900e-01, 3.1088e-03, 2.7678e-03,\n",
       "        9.5213e-01, 7.2298e-01, 9.9878e-01, 9.8173e-01, 7.1522e-02, 3.6056e-01,\n",
       "        1.8272e-01, 8.6003e-02, 9.7706e-01, 3.0648e-01, 4.7267e-01, 9.0660e-01,\n",
       "        9.6035e-01, 8.6247e-01, 9.0738e-01, 9.8245e-01, 6.1156e-01, 8.2412e-01,\n",
       "        3.0313e-01, 2.0620e-01, 8.7577e-01, 3.6870e-01, 2.5871e-01, 6.6738e-01,\n",
       "        7.5389e-01, 1.1928e-01, 1.1593e-02, 9.7716e-01, 6.6889e-02, 8.9741e-01,\n",
       "        0.0000e+00, 3.5805e-01, 5.7945e-01, 7.0358e-02, 7.8874e-01, 1.8334e-01,\n",
       "        2.9024e-01, 2.7510e-01, 8.1067e-01, 8.9532e-01, 1.6005e-02, 9.1638e-01,\n",
       "        5.7963e-03, 3.2933e-02, 8.1406e-01, 5.2671e-01, 2.4902e-01, 8.5002e-01,\n",
       "        9.9310e-01, 1.4701e-02, 4.9664e-01, 6.9295e-01, 4.1678e-01, 8.4528e-01,\n",
       "        3.6738e-01, 3.6194e-01, 4.2921e-02, 8.3030e-01, 4.4766e-02, 7.5090e-01,\n",
       "        5.0948e-01, 9.9998e-01, 1.2957e-02, 2.4250e-01, 1.9806e-01, 8.2011e-01,\n",
       "        8.1381e-01, 4.6674e-01, 2.3139e-01, 9.1322e-01, 3.7907e-03, 1.2174e-01,\n",
       "        9.7710e-01, 9.8710e-01, 8.2477e-01, 3.8392e-01, 4.7339e-01, 9.5784e-01,\n",
       "        9.3171e-01, 2.1172e-01, 1.0522e-01, 4.0063e-01, 2.9403e-01, 9.8761e-01,\n",
       "        4.7434e-01, 7.2779e-01, 5.9883e-01, 2.5031e-02, 5.3810e-01, 9.2693e-01,\n",
       "        9.8397e-01, 1.6761e-01, 4.0478e-01, 9.8057e-01, 3.3322e-01, 1.9968e-01,\n",
       "        6.7496e-01, 6.6273e-01, 4.0655e-02, 2.3992e-01, 1.7088e-02, 1.8729e-01,\n",
       "        2.4928e-01, 7.6125e-01, 4.7231e-01, 6.8850e-01, 1.7975e-01, 2.7724e-01,\n",
       "        1.3981e-01, 9.3815e-01, 1.8464e-01, 1.2176e-01, 9.2318e-01, 6.0914e-01,\n",
       "        4.8419e-01, 3.6964e-02, 1.0000e+00, 8.0148e-01, 3.1469e-01, 9.8151e-01,\n",
       "        7.2581e-01, 2.0811e-01, 2.6653e-01, 7.1562e-01, 1.9373e-01, 8.9390e-01,\n",
       "        8.7551e-01, 1.8290e-01, 4.5286e-01, 8.3313e-01, 9.6582e-01, 3.9311e-03,\n",
       "        8.8530e-01, 2.5672e-02, 3.1102e-01, 7.0681e-01, 3.0556e-01, 2.7654e-01,\n",
       "        1.1753e-02, 2.6581e-01, 7.3706e-01, 9.2042e-01, 9.3534e-01, 5.0869e-01,\n",
       "        6.3258e-02, 9.9759e-01, 7.3333e-01, 8.7932e-01, 5.9195e-01, 1.9262e-01,\n",
       "        1.9663e-01, 3.4319e-01, 1.5851e-01, 1.0259e-01, 6.4004e-01, 9.0595e-01,\n",
       "        4.0195e-01, 6.3341e-01, 1.3857e-01, 9.9988e-01, 9.2280e-02, 1.4058e-01,\n",
       "        9.4603e-01, 9.6953e-02, 4.8517e-01, 9.5241e-01, 6.1606e-01, 1.4058e-01,\n",
       "        2.0915e-01, 6.7053e-01, 5.0402e-02, 2.7143e-01, 5.1790e-01, 2.9265e-01,\n",
       "        2.4068e-04, 4.4153e-01, 9.9954e-01, 4.6529e-01, 4.7133e-02, 7.6983e-01,\n",
       "        1.6286e-02, 1.1777e-01, 1.1753e-02, 7.5677e-01, 2.8916e-01, 8.0333e-01,\n",
       "        1.1735e-01, 9.5668e-01, 3.1003e-01, 1.4501e-02, 7.2320e-01, 1.3574e-01,\n",
       "        7.6544e-01, 8.4757e-01, 6.1205e-01, 8.2294e-01, 9.9781e-01, 6.2236e-02,\n",
       "        6.6636e-01, 8.6584e-01, 5.0926e-01, 9.8137e-01, 9.9986e-01, 5.3360e-01,\n",
       "        7.9945e-01, 7.5579e-01, 2.2864e-03, 8.2741e-01, 5.8164e-04, 2.9002e-02,\n",
       "        3.0261e-01, 9.6973e-02, 1.0028e-04, 4.6270e-01, 6.6973e-01, 6.0390e-02,\n",
       "        4.0450e-01, 1.3225e-01])"
      ]
     },
     "execution_count": 68,
     "metadata": {},
     "output_type": "execute_result"
    }
   ],
   "source": [
    "trainer.get_feature_density()"
   ]
  },
  {
   "cell_type": "code",
   "execution_count": 69,
   "metadata": {},
   "outputs": [
    {
     "name": "stderr",
     "output_type": "stream",
     "text": [
      "Computing feature densities:  10%|▉         | 38/390 [00:00<00:00, 378.62it/s]"
     ]
    },
    {
     "name": "stderr",
     "output_type": "stream",
     "text": [
      "Computing feature densities: 100%|██████████| 390/390 [00:00<00:00, 1003.56it/s]\n"
     ]
    },
    {
     "data": {
      "image/png": "[encoded data removed]",
      "text/plain": [
       "<PIL.PngImagePlugin.PngImageFile image mode=RGBA size=640x480>"
      ]
     },
     "execution_count": 69,
     "metadata": {},
     "output_type": "execute_result"
    }
   ],
   "source": [
    "trainer.get_log_feature_density_plot()"
   ]
  },
  {
   "cell_type": "code",
   "execution_count": null,
   "metadata": {},
   "outputs": [],
   "source": []
  }
 ],
 "metadata": {
  "kernelspec": {
   "display_name": "nouns-mech-interp-YeAXWnnL-py3.10",
   "language": "python",
   "name": "python3"
  },
  "language_info": {
   "codemirror_mode": {
    "name": "ipython",
    "version": 3
   },
   "file_extension": ".py",
   "mimetype": "text/x-python",
   "name": "python",
   "nbconvert_exporter": "python",
   "pygments_lexer": "ipython3",
   "version": "3.10.10"
  }
 },
 "nbformat": 4,
 "nbformat_minor": 2
}
