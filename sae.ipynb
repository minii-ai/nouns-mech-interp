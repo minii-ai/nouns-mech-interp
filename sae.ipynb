{
 "cells": [
  {
   "cell_type": "code",
   "execution_count": 1,
   "metadata": {},
   "outputs": [],
   "source": [
    "%load_ext autoreload\n",
    "%autoreload 2"
   ]
  },
  {
   "cell_type": "code",
   "execution_count": 22,
   "metadata": {},
   "outputs": [],
   "source": [
    "from vae_interp.dataset import NpyDataset\n",
    "from vae_interp.vae import VAE\n",
    "import matplotlib.pyplot as plt\n",
    "import torch\n",
    "from vae_interp.sae import SAE"
   ]
  },
  {
   "cell_type": "code",
   "execution_count": 3,
   "metadata": {},
   "outputs": [
    {
     "data": {
      "text/plain": [
       "49859"
      ]
     },
     "execution_count": 3,
     "metadata": {},
     "output_type": "execute_result"
    }
   ],
   "source": [
    "npy_path = \"./vae_embeddings.npy\"\n",
    "dataset = NpyDataset(npy_path)\n",
    "\n",
    "len(dataset)"
   ]
  },
  {
   "cell_type": "code",
   "execution_count": 7,
   "metadata": {},
   "outputs": [
    {
     "data": {
      "text/plain": [
       "VAE(\n",
       "  (encoder): Encoder(\n",
       "    (encoder): Sequential(\n",
       "      (0): Sequential(\n",
       "        (0): Conv2d(3, 32, kernel_size=(3, 3), stride=(2, 2), padding=(1, 1))\n",
       "        (1): BatchNorm2d(32, eps=1e-05, momentum=0.1, affine=True, track_running_stats=True)\n",
       "        (2): ReLU()\n",
       "      )\n",
       "      (1): Sequential(\n",
       "        (0): Conv2d(32, 64, kernel_size=(3, 3), stride=(2, 2), padding=(1, 1))\n",
       "        (1): BatchNorm2d(64, eps=1e-05, momentum=0.1, affine=True, track_running_stats=True)\n",
       "        (2): ReLU()\n",
       "      )\n",
       "      (2): Sequential(\n",
       "        (0): Conv2d(64, 128, kernel_size=(3, 3), stride=(2, 2), padding=(1, 1))\n",
       "        (1): BatchNorm2d(128, eps=1e-05, momentum=0.1, affine=True, track_running_stats=True)\n",
       "        (2): ReLU()\n",
       "      )\n",
       "      (3): Sequential(\n",
       "        (0): Conv2d(128, 256, kernel_size=(3, 3), stride=(2, 2), padding=(1, 1))\n",
       "        (1): BatchNorm2d(256, eps=1e-05, momentum=0.1, affine=True, track_running_stats=True)\n",
       "        (2): ReLU()\n",
       "      )\n",
       "    )\n",
       "  )\n",
       "  (mu_logvar): Conv2d(256, 8, kernel_size=(1, 1), stride=(1, 1))\n",
       "  (decoder_input): Conv2d(4, 256, kernel_size=(1, 1), stride=(1, 1))\n",
       "  (decoder): Decoder(\n",
       "    (decoder): Sequential(\n",
       "      (0): Sequential(\n",
       "        (0): ConvTranspose2d(256, 128, kernel_size=(4, 4), stride=(2, 2), padding=(1, 1))\n",
       "        (1): BatchNorm2d(128, eps=1e-05, momentum=0.1, affine=True, track_running_stats=True)\n",
       "        (2): ReLU()\n",
       "      )\n",
       "      (1): Sequential(\n",
       "        (0): ConvTranspose2d(128, 64, kernel_size=(4, 4), stride=(2, 2), padding=(1, 1))\n",
       "        (1): BatchNorm2d(64, eps=1e-05, momentum=0.1, affine=True, track_running_stats=True)\n",
       "        (2): ReLU()\n",
       "      )\n",
       "      (2): Sequential(\n",
       "        (0): ConvTranspose2d(64, 32, kernel_size=(4, 4), stride=(2, 2), padding=(1, 1))\n",
       "        (1): BatchNorm2d(32, eps=1e-05, momentum=0.1, affine=True, track_running_stats=True)\n",
       "        (2): ReLU()\n",
       "      )\n",
       "      (3): Sequential(\n",
       "        (0): ConvTranspose2d(32, 32, kernel_size=(4, 4), stride=(2, 2), padding=(1, 1))\n",
       "        (1): BatchNorm2d(32, eps=1e-05, momentum=0.1, affine=True, track_running_stats=True)\n",
       "        (2): ReLU()\n",
       "        (3): Conv2d(32, 3, kernel_size=(3, 3), stride=(1, 1), padding=(1, 1))\n",
       "      )\n",
       "    )\n",
       "  )\n",
       ")"
      ]
     },
     "execution_count": 7,
     "metadata": {},
     "output_type": "execute_result"
    }
   ],
   "source": [
    "vae_checkpoint = \"./checkpoints/vae\"\n",
    "\n",
    "vae = VAE.load_from_dir(vae_checkpoint)\n",
    "vae.to(\"cuda\")"
   ]
  },
  {
   "cell_type": "code",
   "execution_count": 8,
   "metadata": {},
   "outputs": [
    {
     "data": {
      "text/plain": [
       "tensor([ 0.3580, -0.7584, -0.7236,  0.2047,  0.4342, -1.0282, -0.5373, -0.3994,\n",
       "         0.3159,  0.2271,  3.2967, -0.1082,  0.4442, -1.3350,  0.1087, -0.0599,\n",
       "        -0.1499, -1.4915, -1.1173, -1.1423, -0.7139,  0.3007,  1.9337, -0.5247,\n",
       "        -0.9506,  1.5348,  1.3062, -0.1191, -0.6700, -0.8807,  0.7381, -0.3178,\n",
       "        -0.7549,  0.8090, -1.6190, -0.4869, -0.8433, -0.1409,  0.1760, -0.8304,\n",
       "        -0.9876,  1.4467,  0.5713, -0.5600, -1.0598,  1.9426, -0.2219, -0.9749,\n",
       "         0.4190,  0.1557, -1.1312,  0.3236,  0.4938, -1.1100, -0.1721,  1.0031,\n",
       "         0.2506,  0.7770, -1.8356,  0.3198,  0.2038, -0.9374, -1.2771,  0.7020])"
      ]
     },
     "execution_count": 8,
     "metadata": {},
     "output_type": "execute_result"
    }
   ],
   "source": [
    "dataset[0]"
   ]
  },
  {
   "cell_type": "code",
   "execution_count": 20,
   "metadata": {},
   "outputs": [
    {
     "data": {
      "text/plain": [
       "torch.Size([1, 4, 4, 4])"
      ]
     },
     "execution_count": 20,
     "metadata": {},
     "output_type": "execute_result"
    }
   ],
   "source": [
    "# sanity check to make sure it decodes to the right image with VAE\n",
    "embedding = dataset[1].view(4, 4, 4).unsqueeze(0).to(\"cuda\")\n",
    "embedding.shape"
   ]
  },
  {
   "cell_type": "code",
   "execution_count": 21,
   "metadata": {},
   "outputs": [
    {
     "data": {
      "text/plain": [
       "<matplotlib.image.AxesImage at 0x14725c264970>"
      ]
     },
     "execution_count": 21,
     "metadata": {},
     "output_type": "execute_result"
    },
    {
     "data": {
      "image/png": "[encoded data removed]",
      "text/plain": [
       "<Figure size 640x480 with 1 Axes>"
      ]
     },
     "metadata": {},
     "output_type": "display_data"
    }
   ],
   "source": [
    "vae.eval()\n",
    "with torch.no_grad():\n",
    "    recon = vae.decode(embedding)\n",
    "    recon = recon.cpu().squeeze(0).permute(1, 2, 0)\n",
    "    recon = img = (recon - recon.min()) / (recon.max() - recon.min())\n",
    "\n",
    "plt.imshow(recon)"
   ]
  },
  {
   "cell_type": "code",
   "execution_count": 44,
   "metadata": {},
   "outputs": [
    {
     "data": {
      "text/plain": [
       "SAE()"
      ]
     },
     "execution_count": 44,
     "metadata": {},
     "output_type": "execute_result"
    }
   ],
   "source": [
    "sae = SAE(\n",
    "    in_features=4**3,\n",
    "    expansion_factor=2\n",
    ")\n",
    "\n",
    "sae.to(\"cuda\")"
   ]
  },
  {
   "cell_type": "code",
   "execution_count": 45,
   "metadata": {},
   "outputs": [],
   "source": [
    "batch = dataset[0].unsqueeze(0).to(\"cuda\")"
   ]
  },
  {
   "cell_type": "code",
   "execution_count": 46,
   "metadata": {},
   "outputs": [
    {
     "data": {
      "text/plain": [
       "(tensor([[ 0.2142, -0.7290,  1.3897,  1.9620, -1.1710,  1.3429,  0.5422, -1.3332,\n",
       "          -0.8552,  0.3097, -0.3327, -0.4850, -0.4942,  0.4773,  0.5729, -0.1551,\n",
       "          -0.1799,  1.2658, -0.3589,  2.0375, -0.6175, -0.1345,  0.7455, -1.0171,\n",
       "           3.3428,  1.0384,  2.6237,  1.4940, -0.6343, -0.0604,  0.1838,  0.9250,\n",
       "           0.0374,  0.5488,  0.7227, -1.8729, -1.3304, -0.3043,  0.4842,  1.6577,\n",
       "           0.5636,  0.3128, -2.5418,  0.5245,  0.4679, -1.1719,  0.2284,  1.0761,\n",
       "          -0.1435,  1.0712,  0.5981, -0.4468,  0.2415, -0.6850,  1.6466, -0.0634,\n",
       "           1.0396,  0.9254, -0.0354, -0.9078, -0.1945, -0.0796, -1.0963, -0.2064]],\n",
       "        device='cuda:0', grad_fn=<AddBackward0>),\n",
       " tensor([[1.0835, 0.0000, 0.0000, 0.1215, 0.0000, 0.0000, 0.0000, 0.1272, 0.0000,\n",
       "          0.6605, 0.0000, 0.1747, 0.0000, 0.0000, 1.8156, 0.0825, 0.0000, 0.2243,\n",
       "          0.0000, 0.0000, 0.0000, 0.0000, 0.0000, 0.0000, 0.0000, 0.0000, 0.0000,\n",
       "          0.0000, 0.7182, 0.7113, 0.3026, 0.0000, 0.0453, 0.0000, 0.0000, 0.0000,\n",
       "          0.0000, 2.2484, 0.0462, 0.1816, 0.4130, 1.3285, 0.0000, 0.0192, 0.0000,\n",
       "          1.1057, 0.0000, 0.6540, 0.0000, 0.0000, 0.0000, 0.4158, 1.0952, 0.0000,\n",
       "          0.0000, 0.0000, 0.1700, 0.8092, 0.3372, 0.0000, 1.2920, 0.0000, 0.2970,\n",
       "          0.0000, 0.0000, 0.0129, 0.9313, 0.0000, 0.0000, 0.0000, 0.2783, 0.0000,\n",
       "          0.8094, 0.4768, 0.0000, 0.3675, 1.1330, 0.0000, 1.0264, 0.9246, 0.0000,\n",
       "          0.0000, 0.0000, 0.0000, 0.6385, 0.3460, 0.0000, 0.7480, 0.0000, 0.0000,\n",
       "          0.0000, 0.3383, 0.6660, 0.3415, 0.0000, 1.5311, 0.0000, 1.4151, 0.4869,\n",
       "          0.0000, 1.0467, 0.0000, 0.3615, 0.4464, 0.0000, 1.2626, 0.0000, 0.0000,\n",
       "          0.6817, 0.3171, 0.0000, 0.0000, 0.9873, 0.0743, 1.0510, 0.0000, 0.3905,\n",
       "          0.0000, 0.0896, 0.0000, 0.7152, 0.0000, 0.0000, 0.0000, 0.0000, 0.0000,\n",
       "          0.0000, 0.1366]], device='cuda:0', grad_fn=<ReluBackward0>))"
      ]
     },
     "execution_count": 46,
     "metadata": {},
     "output_type": "execute_result"
    }
   ],
   "source": [
    "sae(batch)"
   ]
  },
  {
   "cell_type": "code",
   "execution_count": 51,
   "metadata": {},
   "outputs": [
    {
     "data": {
      "text/plain": [
       "tensor([[-0.0607,  0.0086, -0.0434,  ..., -0.1866, -0.1915, -0.0006],\n",
       "        [ 0.1584, -0.0179, -0.1120,  ...,  0.0129, -0.0384, -0.1194],\n",
       "        [ 0.1100, -0.1904,  0.0127,  ..., -0.2100,  0.1267,  0.1501],\n",
       "        ...,\n",
       "        [ 0.0245,  0.1871, -0.1977,  ..., -0.2035, -0.0472, -0.1778],\n",
       "        [-0.0299,  0.1867, -0.1543,  ..., -0.1497, -0.0989, -0.0475],\n",
       "        [-0.0751,  0.1502, -0.1025,  ...,  0.0240,  0.1962, -0.0147]],\n",
       "       device='cuda:0', grad_fn=<DivBackward0>)"
      ]
     },
     "execution_count": 51,
     "metadata": {},
     "output_type": "execute_result"
    }
   ],
   "source": [
    "sae.features"
   ]
  },
  {
   "cell_type": "code",
   "execution_count": null,
   "metadata": {},
   "outputs": [],
   "source": []
  }
 ],
 "metadata": {
  "kernelspec": {
   "display_name": "nouns-mech-interp-YeAXWnnL-py3.10",
   "language": "python",
   "name": "python3"
  },
  "language_info": {
   "codemirror_mode": {
    "name": "ipython",
    "version": 3
   },
   "file_extension": ".py",
   "mimetype": "text/x-python",
   "name": "python",
   "nbconvert_exporter": "python",
   "pygments_lexer": "ipython3",
   "version": "3.10.10"
  }
 },
 "nbformat": 4,
 "nbformat_minor": 2
}
