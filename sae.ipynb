{
 "cells": [
  {
   "cell_type": "code",
   "execution_count": 1,
   "metadata": {},
   "outputs": [],
   "source": [
    "%load_ext autoreload\n",
    "%autoreload 2"
   ]
  },
  {
   "cell_type": "code",
   "execution_count": 2,
   "metadata": {},
   "outputs": [
    {
     "name": "stderr",
     "output_type": "stream",
     "text": [
      "/home/ubuntu/.cache/pypoetry/virtualenvs/nouns-mech-interp-YeAXWnnL-py3.10/lib/python3.10/site-packages/tqdm/auto.py:21: TqdmWarning: IProgress not found. Please update jupyter and ipywidgets. See https://ipywidgets.readthedocs.io/en/stable/user_install.html\n",
      "  from .autonotebook import tqdm as notebook_tqdm\n"
     ]
    }
   ],
   "source": [
    "from vae_interp.dataset import NpyDataset\n",
    "from vae_interp.vae import VAE\n",
    "import matplotlib.pyplot as plt\n",
    "import torch\n",
    "from vae_interp.sae import SAE"
   ]
  },
  {
   "cell_type": "code",
   "execution_count": 3,
   "metadata": {},
   "outputs": [
    {
     "data": {
      "text/plain": [
       "49859"
      ]
     },
     "execution_count": 3,
     "metadata": {},
     "output_type": "execute_result"
    }
   ],
   "source": [
    "npy_path = \"./vae_embeddings.npy\"\n",
    "dataset = NpyDataset(npy_path)\n",
    "\n",
    "len(dataset)"
   ]
  },
  {
   "cell_type": "code",
   "execution_count": 4,
   "metadata": {},
   "outputs": [
    {
     "data": {
      "text/plain": [
       "VAE(\n",
       "  (encoder): Encoder(\n",
       "    (encoder): Sequential(\n",
       "      (0): Sequential(\n",
       "        (0): Conv2d(3, 32, kernel_size=(3, 3), stride=(2, 2), padding=(1, 1))\n",
       "        (1): BatchNorm2d(32, eps=1e-05, momentum=0.1, affine=True, track_running_stats=True)\n",
       "        (2): ReLU()\n",
       "      )\n",
       "      (1): Sequential(\n",
       "        (0): Conv2d(32, 64, kernel_size=(3, 3), stride=(2, 2), padding=(1, 1))\n",
       "        (1): BatchNorm2d(64, eps=1e-05, momentum=0.1, affine=True, track_running_stats=True)\n",
       "        (2): ReLU()\n",
       "      )\n",
       "      (2): Sequential(\n",
       "        (0): Conv2d(64, 128, kernel_size=(3, 3), stride=(2, 2), padding=(1, 1))\n",
       "        (1): BatchNorm2d(128, eps=1e-05, momentum=0.1, affine=True, track_running_stats=True)\n",
       "        (2): ReLU()\n",
       "      )\n",
       "      (3): Sequential(\n",
       "        (0): Conv2d(128, 256, kernel_size=(3, 3), stride=(2, 2), padding=(1, 1))\n",
       "        (1): BatchNorm2d(256, eps=1e-05, momentum=0.1, affine=True, track_running_stats=True)\n",
       "        (2): ReLU()\n",
       "      )\n",
       "    )\n",
       "  )\n",
       "  (mu_logvar): Conv2d(256, 8, kernel_size=(1, 1), stride=(1, 1))\n",
       "  (decoder_input): Conv2d(4, 256, kernel_size=(1, 1), stride=(1, 1))\n",
       "  (decoder): Decoder(\n",
       "    (decoder): Sequential(\n",
       "      (0): Sequential(\n",
       "        (0): ConvTranspose2d(256, 128, kernel_size=(4, 4), stride=(2, 2), padding=(1, 1))\n",
       "        (1): BatchNorm2d(128, eps=1e-05, momentum=0.1, affine=True, track_running_stats=True)\n",
       "        (2): ReLU()\n",
       "      )\n",
       "      (1): Sequential(\n",
       "        (0): ConvTranspose2d(128, 64, kernel_size=(4, 4), stride=(2, 2), padding=(1, 1))\n",
       "        (1): BatchNorm2d(64, eps=1e-05, momentum=0.1, affine=True, track_running_stats=True)\n",
       "        (2): ReLU()\n",
       "      )\n",
       "      (2): Sequential(\n",
       "        (0): ConvTranspose2d(64, 32, kernel_size=(4, 4), stride=(2, 2), padding=(1, 1))\n",
       "        (1): BatchNorm2d(32, eps=1e-05, momentum=0.1, affine=True, track_running_stats=True)\n",
       "        (2): ReLU()\n",
       "      )\n",
       "      (3): Sequential(\n",
       "        (0): ConvTranspose2d(32, 32, kernel_size=(4, 4), stride=(2, 2), padding=(1, 1))\n",
       "        (1): BatchNorm2d(32, eps=1e-05, momentum=0.1, affine=True, track_running_stats=True)\n",
       "        (2): ReLU()\n",
       "        (3): Conv2d(32, 3, kernel_size=(3, 3), stride=(1, 1), padding=(1, 1))\n",
       "      )\n",
       "    )\n",
       "  )\n",
       ")"
      ]
     },
     "execution_count": 4,
     "metadata": {},
     "output_type": "execute_result"
    }
   ],
   "source": [
    "vae_checkpoint = \"./checkpoints/vae\"\n",
    "\n",
    "vae = VAE.load_from_dir(vae_checkpoint)\n",
    "vae.to(\"cuda\")"
   ]
  },
  {
   "cell_type": "code",
   "execution_count": 5,
   "metadata": {},
   "outputs": [
    {
     "data": {
      "text/plain": [
       "tensor([ 0.3580, -0.7584, -0.7236,  0.2047,  0.4342, -1.0282, -0.5373, -0.3994,\n",
       "         0.3159,  0.2271,  3.2967, -0.1082,  0.4442, -1.3350,  0.1087, -0.0599,\n",
       "        -0.1499, -1.4915, -1.1173, -1.1423, -0.7139,  0.3007,  1.9337, -0.5247,\n",
       "        -0.9506,  1.5348,  1.3062, -0.1191, -0.6700, -0.8807,  0.7381, -0.3178,\n",
       "        -0.7549,  0.8090, -1.6190, -0.4869, -0.8433, -0.1409,  0.1760, -0.8304,\n",
       "        -0.9876,  1.4467,  0.5713, -0.5600, -1.0598,  1.9426, -0.2219, -0.9749,\n",
       "         0.4190,  0.1557, -1.1312,  0.3236,  0.4938, -1.1100, -0.1721,  1.0031,\n",
       "         0.2506,  0.7770, -1.8356,  0.3198,  0.2038, -0.9374, -1.2771,  0.7020])"
      ]
     },
     "execution_count": 5,
     "metadata": {},
     "output_type": "execute_result"
    }
   ],
   "source": [
    "dataset[0]"
   ]
  },
  {
   "cell_type": "code",
   "execution_count": 6,
   "metadata": {},
   "outputs": [
    {
     "data": {
      "text/plain": [
       "torch.Size([1, 4, 4, 4])"
      ]
     },
     "execution_count": 6,
     "metadata": {},
     "output_type": "execute_result"
    }
   ],
   "source": [
    "# sanity check to make sure it decodes to the right image with VAE\n",
    "embedding = dataset[1].view(4, 4, 4).unsqueeze(0).to(\"cuda\")\n",
    "embedding.shape"
   ]
  },
  {
   "cell_type": "code",
   "execution_count": 7,
   "metadata": {},
   "outputs": [
    {
     "data": {
      "text/plain": [
       "<matplotlib.image.AxesImage at 0x14624111e9e0>"
      ]
     },
     "execution_count": 7,
     "metadata": {},
     "output_type": "execute_result"
    },
    {
     "data": {
      "image/png": "[encoded data removed]",
      "text/plain": [
       "<Figure size 640x480 with 1 Axes>"
      ]
     },
     "metadata": {},
     "output_type": "display_data"
    }
   ],
   "source": [
    "vae.eval()\n",
    "with torch.no_grad():\n",
    "    recon = vae.decode(embedding)\n",
    "    recon = recon.cpu().squeeze(0).permute(1, 2, 0)\n",
    "    recon = img = (recon - recon.min()) / (recon.max() - recon.min())\n",
    "\n",
    "plt.imshow(recon)"
   ]
  },
  {
   "cell_type": "code",
   "execution_count": 8,
   "metadata": {},
   "outputs": [
    {
     "data": {
      "text/plain": [
       "SAE()"
      ]
     },
     "execution_count": 8,
     "metadata": {},
     "output_type": "execute_result"
    }
   ],
   "source": [
    "sae = SAE(\n",
    "    in_features=4**3,\n",
    "    expansion_factor=2\n",
    ")\n",
    "\n",
    "sae.to(\"cuda\")"
   ]
  },
  {
   "cell_type": "code",
   "execution_count": 9,
   "metadata": {},
   "outputs": [],
   "source": [
    "batch = dataset[0].unsqueeze(0).to(\"cuda\")"
   ]
  },
  {
   "cell_type": "code",
   "execution_count": 10,
   "metadata": {},
   "outputs": [
    {
     "data": {
      "text/plain": [
       "SAEOutput(recon=tensor([[-0.2204, -0.2582,  0.7769, -0.6883, -0.0360, -0.0631,  0.2249, -0.8086,\n",
       "         -0.6729, -0.1539,  0.1805, -0.9818,  1.0261,  0.2377, -0.5876,  1.4375,\n",
       "          0.2621, -0.4506,  1.7011,  0.5035, -0.3348, -1.4815,  0.5691,  0.7327,\n",
       "         -0.9162, -0.4864,  0.6697, -0.4904, -0.4121, -0.4792, -1.6226, -0.7744,\n",
       "          0.9083,  1.3847,  0.1885,  1.0741,  1.7921, -1.1408, -0.7765,  0.2535,\n",
       "         -1.3668,  1.4312,  0.4383,  0.1772,  0.8265, -0.7920,  0.6062,  0.9727,\n",
       "         -1.3108, -1.2641, -1.3318, -0.4320, -1.2782, -1.1927,  1.8402,  0.2533,\n",
       "          1.1494,  0.5941, -0.0463, -1.0321,  1.6924,  0.5836,  0.9503,  0.8099]],\n",
       "       device='cuda:0', grad_fn=<AddBackward0>), latent=tensor([[0.4859, 0.3007, 0.0000, 0.0000, 0.0000, 0.0000, 0.0000, 0.9953, 0.0289,\n",
       "         0.3850, 0.7160, 1.8166, 0.0000, 0.0000, 0.0870, 0.8451, 0.0000, 0.4277,\n",
       "         1.0829, 0.1497, 0.3995, 0.0000, 0.0000, 0.0000, 0.0000, 1.1392, 0.0000,\n",
       "         0.0000, 0.4544, 0.0000, 0.4690, 1.4298, 0.5929, 0.0000, 0.1550, 1.1602,\n",
       "         0.0000, 0.0000, 0.0000, 0.4847, 0.0000, 0.0000, 0.4066, 0.4520, 0.0000,\n",
       "         2.4017, 0.0000, 1.7757, 0.0890, 0.6462, 0.0000, 1.2298, 0.3207, 0.2378,\n",
       "         0.7712, 0.0032, 0.0000, 0.4154, 0.0000, 0.0000, 0.0000, 0.0000, 0.0000,\n",
       "         0.0000, 0.0000, 0.5871, 0.0000, 1.9319, 0.0000, 0.0000, 0.5345, 2.4157,\n",
       "         0.4308, 0.0000, 0.0000, 0.2342, 0.8528, 0.0000, 0.0000, 0.7795, 0.0000,\n",
       "         2.9354, 0.0000, 0.1261, 0.0000, 0.0000, 0.0961, 0.5892, 0.3321, 0.2092,\n",
       "         0.0000, 0.5278, 0.0000, 0.4766, 0.0000, 0.0000, 0.1102, 0.0000, 0.0000,\n",
       "         0.0665, 0.0000, 0.0000, 0.0000, 0.0000, 0.0000, 0.0000, 0.7022, 0.3566,\n",
       "         0.0000, 0.9671, 1.8723, 0.0000, 0.0000, 1.0156, 0.6688, 0.3829, 0.0890,\n",
       "         0.1412, 0.2955, 0.4093, 0.0000, 0.2897, 1.9809, 0.0000, 0.0000, 0.0000,\n",
       "         0.0000, 0.0000]], device='cuda:0', grad_fn=<ReluBackward0>))"
      ]
     },
     "execution_count": 10,
     "metadata": {},
     "output_type": "execute_result"
    }
   ],
   "source": [
    "sae(batch)"
   ]
  },
  {
   "cell_type": "code",
   "execution_count": 11,
   "metadata": {},
   "outputs": [
    {
     "data": {
      "text/plain": [
       "SAELossOutput(loss=tensor(6.2852, device='cuda:0', grad_fn=<AddBackward0>), recon_loss=tensor(1.8090, device='cuda:0'), l1_loss=tensor(4.4761, device='cuda:0'))"
      ]
     },
     "execution_count": 11,
     "metadata": {},
     "output_type": "execute_result"
    }
   ],
   "source": [
    "sae.loss(batch, 0.1)"
   ]
  },
  {
   "cell_type": "code",
   "execution_count": 12,
   "metadata": {},
   "outputs": [],
   "source": [
    "from torch.utils.data import DataLoader\n",
    "from vae_interp.trainer import SAETrainConfig, SAETrainer\n",
    "\n",
    "\n",
    "dataset = NpyDataset(\"./vae_embeddings.npy\")\n",
    "dataloader = DataLoader(\n",
    "    dataset,\n",
    "    batch_size=128,\n",
    "    shuffle=True,\n",
    "    pin_memory=True,\n",
    "    num_workers=4,\n",
    ")\n",
    "\n",
    "sae = SAE(\n",
    "    in_features=64,\n",
    "    expansion_factor=8,\n",
    "    dtype=torch.float32,\n",
    ")\n",
    "\n",
    "train_config = SAETrainConfig(\n",
    "    lr=3e-4,\n",
    "    iterations=10,\n",
    "    lmbda=0.004,\n",
    ")\n",
    "trainer = SAETrainer(\n",
    "    model=sae,\n",
    "    dataloader=dataloader,\n",
    "    config=train_config,\n",
    "    save_dir=\"./checkpoints/sae\",\n",
    "    checkpoint_every=10,\n",
    "    # device=args.device,\n",
    ")"
   ]
  },
  {
   "cell_type": "code",
   "execution_count": 13,
   "metadata": {},
   "outputs": [
    {
     "name": "stderr",
     "output_type": "stream",
     "text": [
      "Computing L0 norm:   0%|          | 0/390 [00:00<?, ?it/s]"
     ]
    },
    {
     "name": "stderr",
     "output_type": "stream",
     "text": [
      "Computing L0 norm: 100%|██████████| 390/390 [00:00<00:00, 914.44it/s] \n"
     ]
    },
    {
     "data": {
      "text/plain": [
       "264.7004953970196"
      ]
     },
     "execution_count": 13,
     "metadata": {},
     "output_type": "execute_result"
    }
   ],
   "source": [
    "trainer.get_l0_norm()"
   ]
  },
  {
   "cell_type": "code",
   "execution_count": 14,
   "metadata": {},
   "outputs": [
    {
     "name": "stderr",
     "output_type": "stream",
     "text": [
      "Computing feature densities:   5%|▌         | 20/390 [00:00<00:01, 199.38it/s]"
     ]
    },
    {
     "name": "stderr",
     "output_type": "stream",
     "text": [
      "Computing feature densities: 100%|██████████| 390/390 [00:00<00:00, 997.68it/s] \n"
     ]
    },
    {
     "data": {
      "text/plain": [
       "tensor([8.2344e-01, 6.3335e-01, 7.3136e-01, 9.8815e-01, 6.9911e-01, 9.0367e-01,\n",
       "        7.2107e-01, 1.4659e-01, 8.8153e-01, 8.5958e-01, 3.2997e-01, 4.8136e-04,\n",
       "        6.0011e-01, 2.2692e-01, 3.5624e-01, 1.5975e-01, 8.3403e-01, 4.9740e-02,\n",
       "        7.2843e-01, 9.4131e-01, 9.2816e-01, 7.8820e-01, 8.5954e-01, 9.8744e-01,\n",
       "        1.9371e-01, 7.2685e-02, 9.6221e-01, 1.0000e+00, 3.8456e-01, 2.2590e-01,\n",
       "        3.8258e-01, 9.4125e-02, 3.7947e-02, 8.2633e-03, 6.2637e-01, 8.9960e-01,\n",
       "        3.4355e-01, 9.9793e-01, 4.0091e-01, 8.4930e-01, 8.9506e-01, 2.5233e-01,\n",
       "        1.4040e-04, 9.1697e-01, 7.4863e-01, 7.8640e-01, 9.2816e-01, 2.9329e-01,\n",
       "        8.8937e-01, 6.6267e-02, 5.4143e-01, 9.9354e-01, 6.9281e-01, 3.3334e-02,\n",
       "        9.2798e-01, 3.7040e-01, 7.4089e-01, 4.4345e-02, 9.9972e-01, 9.8532e-01,\n",
       "        6.2113e-01, 9.9625e-01, 6.8806e-01, 5.2781e-01, 4.1690e-01, 9.9645e-01,\n",
       "        5.2147e-04, 8.5457e-01, 2.5291e-02, 2.6013e-02, 9.2539e-01, 2.6294e-02,\n",
       "        5.0192e-01, 6.7051e-01, 2.2754e-01, 9.2719e-01, 1.3638e-02, 6.9779e-01,\n",
       "        9.1101e-01, 6.7204e-01, 8.5367e-01, 2.7989e-01, 2.5881e-01, 1.2423e-01,\n",
       "        8.8544e-01, 4.7237e-01, 8.2914e-02, 2.9764e-01, 6.7659e-01, 7.6434e-01,\n",
       "        4.4130e-01, 9.5319e-01, 1.9928e-01, 5.4153e-04, 6.6411e-01, 8.1875e-01,\n",
       "        7.2918e-01, 9.9001e-01, 1.7227e-01, 6.2675e-01, 9.0034e-02, 9.2260e-03,\n",
       "        1.6848e-03, 2.2806e-01, 9.6711e-01, 2.4150e-01, 1.5470e-01, 9.8867e-01,\n",
       "        6.3539e-02, 9.9970e-01, 9.0060e-01, 5.4754e-03, 7.9815e-01, 7.8034e-01,\n",
       "        5.6178e-02, 5.4534e-01, 3.3617e-01, 6.1574e-03, 4.5131e-01, 6.4384e-01,\n",
       "        9.5401e-01, 2.7355e-01, 6.6788e-01, 5.4674e-01, 9.0403e-01, 4.9700e-02,\n",
       "        5.2255e-01, 2.8414e-01, 3.8326e-01, 7.3567e-01, 4.0986e-01, 9.8797e-01,\n",
       "        7.4362e-01, 1.2708e-01, 2.3839e-01, 5.4913e-01, 9.5977e-01, 3.7167e-01,\n",
       "        8.4193e-01, 8.1029e-03, 3.1368e-02, 2.7895e-01, 9.6388e-01, 7.1905e-01,\n",
       "        9.0561e-01, 7.9392e-01, 3.2492e-03, 1.2856e-01, 5.8806e-02, 4.0011e-01,\n",
       "        9.9412e-01, 9.3905e-02, 1.8452e-02, 5.4907e-01, 8.0988e-01, 7.5689e-01,\n",
       "        7.4538e-01, 7.0451e-01, 4.9070e-01, 9.9996e-01, 9.9138e-01, 5.7763e-03,\n",
       "        1.7014e-01, 9.6288e-01, 1.5257e-01, 3.4939e-02, 7.3957e-01, 4.7011e-01,\n",
       "        7.1554e-01, 5.8411e-01, 4.4963e-01, 8.5417e-01, 7.7198e-02, 6.8022e-01,\n",
       "        9.5305e-01, 7.5288e-01, 6.9480e-01, 1.0357e-01, 3.1128e-02, 9.7868e-01,\n",
       "        6.4598e-01, 5.2251e-01, 9.5981e-01, 1.3987e-01, 3.2975e-01, 2.6318e-01,\n",
       "        2.7983e-01, 8.3622e-01, 4.2997e-01, 5.2793e-01, 1.7650e-03, 5.8692e-01,\n",
       "        2.4385e-01, 4.4788e-01, 1.9240e-01, 7.8894e-01, 2.9948e-01, 2.4623e-01,\n",
       "        5.9359e-01, 4.4991e-01, 3.8904e-01, 6.4091e-01, 9.3682e-01, 1.2957e-02,\n",
       "        3.2397e-01, 9.9970e-01, 4.3410e-01, 1.7898e-01, 2.0993e-01, 6.0751e-02,\n",
       "        1.7650e-03, 4.9544e-01, 9.6759e-01, 1.0433e-01, 1.4138e-01, 5.4548e-01,\n",
       "        9.9298e-01, 5.1084e-01, 1.5042e-03, 6.4787e-01, 1.2214e-02, 9.9960e-01,\n",
       "        2.5538e-01, 4.5793e-01, 6.9713e-01, 7.5393e-02, 3.3252e-01, 4.9951e-01,\n",
       "        8.6721e-01, 6.7133e-01, 3.2991e-01, 5.6624e-01, 4.9756e-01, 9.0473e-01,\n",
       "        9.1979e-02, 9.4607e-01, 8.7443e-01, 4.4516e-01, 9.7555e-01, 6.5984e-01,\n",
       "        7.3483e-01, 8.8955e-01, 6.5521e-01, 8.8048e-03, 3.9872e-01, 3.7979e-01,\n",
       "        8.1977e-01, 7.9923e-01, 8.7045e-03, 7.5549e-01, 2.9916e-01, 8.2509e-01,\n",
       "        1.4587e-01, 4.2889e-01, 6.8928e-01, 7.2898e-01, 5.6359e-02, 9.6584e-01,\n",
       "        4.3102e-01, 9.0790e-01, 9.8821e-01, 9.6071e-03, 9.1095e-01, 5.4580e-01,\n",
       "        9.5632e-01, 6.8981e-01, 4.1792e-01, 9.9685e-01, 2.2275e-01, 9.9045e-01,\n",
       "        5.4730e-01, 9.2515e-01, 6.5589e-01, 7.9966e-02, 1.7902e-01, 4.7207e-01,\n",
       "        4.8583e-01, 8.2182e-01, 5.2626e-01, 4.0362e-01, 2.9603e-02, 7.4602e-01,\n",
       "        2.3749e-01, 1.0534e-01, 9.1558e-01, 8.2332e-02, 3.3978e-01, 6.0571e-02,\n",
       "        9.9075e-01, 7.1068e-01, 9.7389e-01, 2.2142e-02, 9.6091e-01, 2.1557e-01,\n",
       "        1.8861e-01, 2.6328e-01, 3.4959e-02, 9.7922e-01, 1.4371e-01, 1.7215e-01,\n",
       "        7.2198e-01, 7.7789e-01, 9.9938e-01, 9.5339e-01, 1.8151e-02, 1.4625e-01,\n",
       "        7.2819e-01, 6.0659e-01, 4.8226e-01, 8.7685e-01, 7.2184e-02, 1.0911e-02,\n",
       "        5.6200e-01, 9.2916e-01, 3.8099e-01, 7.8856e-01, 3.3695e-03, 8.3435e-03,\n",
       "        5.3102e-01, 1.9094e-02, 9.7698e-01, 6.9434e-01, 1.7066e-01, 2.2909e-01,\n",
       "        1.1268e-01, 6.1517e-01, 1.4411e-01, 7.7916e-01, 4.3322e-03, 7.6255e-01,\n",
       "        7.8556e-01, 2.9886e-01, 8.4466e-01, 5.8585e-02, 2.6358e-01, 6.8252e-01,\n",
       "        8.0922e-01, 7.8020e-03, 4.0360e-01, 9.5509e-01, 3.9034e-01, 3.6423e-01,\n",
       "        5.7963e-02, 1.2241e-01, 9.9318e-01, 9.7515e-01, 9.9174e-01, 3.3845e-01,\n",
       "        4.2073e-01, 9.1281e-01, 5.8481e-01, 9.9980e-01, 5.4087e-01, 6.0673e-01,\n",
       "        3.2333e-01, 1.1324e-01, 4.8852e-01, 7.8110e-01, 7.9147e-01, 1.4084e-01,\n",
       "        8.0667e-01, 1.0716e-01, 9.7415e-01, 6.7292e-01, 8.3714e-01, 8.8971e-02,\n",
       "        5.0482e-02, 2.3841e-01, 1.9479e-01, 2.1882e-01, 3.2070e-02, 9.5401e-01,\n",
       "        5.2749e-01, 8.4498e-01, 1.1506e-01, 7.5391e-01, 6.3820e-01, 3.3769e-01,\n",
       "        1.3859e-01, 3.2343e-01, 1.5805e-01, 9.9842e-02, 8.9559e-01, 1.6374e-01,\n",
       "        8.4745e-01, 9.9990e-01, 8.1221e-01, 1.6493e-01, 8.7611e-01, 9.7904e-01,\n",
       "        1.3308e-01, 9.0977e-02, 6.0242e-01, 8.6875e-01, 9.3448e-01, 7.0599e-01,\n",
       "        9.8732e-01, 9.9603e-01, 7.6115e-02, 1.2006e-01, 4.8234e-01, 7.7842e-01,\n",
       "        5.3778e-01, 5.3118e-01, 4.4526e-01, 2.9383e-02, 2.3436e-01, 9.4278e-01,\n",
       "        1.3470e-01, 8.4462e-01, 2.7473e-01, 2.8354e-01, 9.8983e-01, 6.1672e-01,\n",
       "        6.3459e-02, 3.8023e-01, 3.5755e-01, 2.2915e-01, 3.0546e-02, 2.8486e-01,\n",
       "        6.5102e-01, 9.5804e-01, 8.7186e-02, 6.3579e-03, 7.2585e-02, 3.4698e-03,\n",
       "        6.0288e-01, 3.5492e-01, 8.5712e-01, 9.6025e-01, 8.7765e-01, 2.7582e-01,\n",
       "        1.7812e-01, 9.6087e-01, 6.4201e-01, 7.9685e-01, 1.1990e-01, 7.8327e-01,\n",
       "        7.7077e-01, 8.1444e-01, 7.0230e-01, 4.6186e-01, 5.1842e-01, 4.9173e-01,\n",
       "        8.5433e-01, 5.1878e-01, 3.0626e-01, 9.7395e-02, 7.2358e-01, 9.9521e-01,\n",
       "        1.1707e-01, 7.2087e-01, 8.9504e-01, 3.2784e-01, 6.3339e-02, 5.9115e-01,\n",
       "        2.5628e-01, 8.9773e-01, 3.2076e-01, 9.8987e-01, 9.5991e-02, 9.1332e-01,\n",
       "        3.8182e-01, 7.6307e-01, 7.8949e-01, 2.6031e-01, 1.7864e-01, 7.9855e-01,\n",
       "        9.2082e-01, 9.3327e-01, 9.5389e-01, 5.2035e-01, 3.9401e-01, 8.1249e-01,\n",
       "        6.5128e-01, 0.0000e+00, 5.4442e-01, 7.4472e-01, 9.7708e-01, 5.9785e-01,\n",
       "        4.6216e-01, 9.3082e-02, 7.2851e-01, 6.8202e-01, 9.6003e-01, 7.4504e-01,\n",
       "        9.8119e-01, 3.4299e-01, 7.6428e-01, 8.7465e-01, 9.3606e-01, 1.5231e-01,\n",
       "        9.9627e-01, 4.5151e-01, 1.2868e-01, 9.8688e-01, 5.9047e-02, 9.9388e-01,\n",
       "        3.8930e-01, 1.2844e-01, 6.7926e-01, 6.9396e-03, 2.6005e-01, 8.9149e-01,\n",
       "        3.3855e-02, 9.8377e-02, 3.7698e-01, 1.2543e-01, 7.8568e-01, 7.4847e-01,\n",
       "        5.8625e-01, 4.7935e-01])"
      ]
     },
     "execution_count": 14,
     "metadata": {},
     "output_type": "execute_result"
    }
   ],
   "source": [
    "trainer.get_feature_density()"
   ]
  },
  {
   "cell_type": "code",
   "execution_count": 16,
   "metadata": {},
   "outputs": [
    {
     "name": "stderr",
     "output_type": "stream",
     "text": [
      "Computing feature densities:   0%|          | 0/390 [00:00<?, ?it/s]"
     ]
    },
    {
     "name": "stderr",
     "output_type": "stream",
     "text": [
      "Computing feature densities: 100%|██████████| 390/390 [00:00<00:00, 1040.31it/s]\n"
     ]
    },
    {
     "data": {
      "image/png": "[encoded data removed]",
      "text/plain": [
       "<PIL.PngImagePlugin.PngImageFile image mode=RGBA size=640x480>"
      ]
     },
     "execution_count": 16,
     "metadata": {},
     "output_type": "execute_result"
    }
   ],
   "source": [
    "trainer.get_log_feature_density_plot()"
   ]
  },
  {
   "cell_type": "code",
   "execution_count": null,
   "metadata": {},
   "outputs": [],
   "source": []
  }
 ],
 "metadata": {
  "kernelspec": {
   "display_name": "nouns-mech-interp-YeAXWnnL-py3.10",
   "language": "python",
   "name": "python3"
  },
  "language_info": {
   "codemirror_mode": {
    "name": "ipython",
    "version": 3
   },
   "file_extension": ".py",
   "mimetype": "text/x-python",
   "name": "python",
   "nbconvert_exporter": "python",
   "pygments_lexer": "ipython3",
   "version": "3.10.10"
  }
 },
 "nbformat": 4,
 "nbformat_minor": 2
}
