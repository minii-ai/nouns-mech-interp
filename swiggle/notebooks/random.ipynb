{
 "cells": [
  {
   "cell_type": "code",
   "execution_count": 1,
   "metadata": {},
   "outputs": [],
   "source": [
    "%load_ext autoreload\n",
    "%autoreload 2"
   ]
  },
  {
   "cell_type": "code",
   "execution_count": 15,
   "metadata": {},
   "outputs": [],
   "source": [
    "import sys\n",
    "\n",
    "sys.path.append(\"../\")\n",
    "\n",
    "from vae_interp.dataset import load_nouns_dataset\n",
    "import matplotlib.pyplot as plt\n",
    "from vae_interp.sae import SAE\n",
    "from vae_interp.vae import VAE\n",
    "import torch"
   ]
  },
  {
   "cell_type": "code",
   "execution_count": 3,
   "metadata": {},
   "outputs": [],
   "source": [
    "dataset = load_nouns_dataset(image_size=64, normalize=True)"
   ]
  },
  {
   "cell_type": "code",
   "execution_count": 10,
   "metadata": {},
   "outputs": [
    {
     "data": {
      "text/plain": [
       "SAE()"
      ]
     },
     "execution_count": 10,
     "metadata": {},
     "output_type": "execute_result"
    }
   ],
   "source": [
    "vae = VAE.load_from_dir(\"../weights/vae\")\n",
    "sae = SAE.load_from_checkpoint(\"../weights/sae/sae_config.json\", \"../weights/sae/sae.pth\")\n",
    "\n",
    "vae.eval()\n",
    "sae.eval()"
   ]
  },
  {
   "cell_type": "code",
   "execution_count": 7,
   "metadata": {},
   "outputs": [
    {
     "data": {
      "text/plain": [
       "<matplotlib.image.AxesImage at 0x146c70a1a6e0>"
      ]
     },
     "execution_count": 7,
     "metadata": {},
     "output_type": "execute_result"
    },
    {
     "data": {
      "image/png": "[encoded data removed]",
      "text/plain": [
       "<Figure size 640x480 with 1 Axes>"
      ]
     },
     "metadata": {},
     "output_type": "display_data"
    }
   ],
   "source": [
    "image_id = 0\n",
    "image = dataset[image_id]\n",
    "\n",
    "plt.imshow((image.permute(1, 2, 0) + 1) * 0.5)"
   ]
  },
  {
   "cell_type": "code",
   "execution_count": 20,
   "metadata": {},
   "outputs": [
    {
     "data": {
      "text/plain": [
       "[{'feature_id': 197, 'activation': 2.955507278442383},\n",
       " {'feature_id': 685, 'activation': 0.12281584739685059},\n",
       " {'feature_id': 481, 'activation': 0.08602398633956909},\n",
       " {'feature_id': 896, 'activation': 0.08587047457695007},\n",
       " {'feature_id': 1000, 'activation': 0.0675773024559021},\n",
       " {'feature_id': 687, 'activation': 0.03907740116119385},\n",
       " {'feature_id': 112, 'activation': 0.03437304496765137}]"
      ]
     },
     "execution_count": 20,
     "metadata": {},
     "output_type": "execute_result"
    }
   ],
   "source": [
    "mu, _ = vae.encode(image.unsqueeze(0))\n",
    "latent = mu.view(1, -1)\n",
    "features = sae.encode(latent).squeeze(0)\n",
    "feature_indices = torch.where(features != 0)\n",
    "activations = features[feature_indices]\n",
    "\n",
    "features_list = []\n",
    "\n",
    "for i in range(activations.shape[0]):\n",
    "    features_list.append({\n",
    "        \"feature_id\": int(feature_indices[0][i].item()),\n",
    "        \"activation\": activations[i].item()\n",
    "    })\n",
    "\n",
    "features_list = sorted(features_list, key=lambda x: x[\"activation\"], reverse=True)\n",
    "features_list"
   ]
  },
  {
   "cell_type": "code",
   "execution_count": null,
   "metadata": {},
   "outputs": [],
   "source": []
  }
 ],
 "metadata": {
  "kernelspec": {
   "display_name": "nouns-mech-interp-YeAXWnnL-py3.10",
   "language": "python",
   "name": "python3"
  },
  "language_info": {
   "codemirror_mode": {
    "name": "ipython",
    "version": 3
   },
   "file_extension": ".py",
   "mimetype": "text/x-python",
   "name": "python",
   "nbconvert_exporter": "python",
   "pygments_lexer": "ipython3",
   "version": "3.10.10"
  }
 },
 "nbformat": 4,
 "nbformat_minor": 2
}
